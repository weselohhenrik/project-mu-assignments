{
 "cells": [
  {
   "attachments": {},
   "cell_type": "markdown",
   "metadata": {},
   "source": [
    "#Input Data"
   ]
  },
  {
   "cell_type": "code",
   "execution_count": null,
   "metadata": {},
   "outputs": [],
   "source": [
    "import pandas as pd\n",
    "import matplotlib.pyplot as plt\n",
    "df = pd.read_csv('analyze.csv')\n",
    "\n",
    "x_tics = range(len(df)) # [tics for tics in x if tics % 500 == 20]\n",
    "\n",
    "plt.rcParams[\"figure.figsize\"] = [14.00, 7.00]\n",
    "plt.rcParams[\"figure.autolayout\"] = True\n",
    "\n",
    "plt.plot(x_tics, df)\n",
    "#plt.xticks(x_tics, x)\n",
    "plt.show()"
   ]
  },
  {
   "attachments": {},
   "cell_type": "markdown",
   "metadata": {},
   "source": [
    "Calculated AMDF"
   ]
  },
  {
   "cell_type": "code",
   "execution_count": null,
   "metadata": {},
   "outputs": [],
   "source": [
    "import pandas as pd\n",
    "import matplotlib.pyplot as plt\n",
    "df = pd.read_csv('amdf.csv')\n",
    "\n",
    "x_tics = range(len(df)) # [tics for tics in x if tics % 500 == 20]\n",
    "\n",
    "plt.rcParams[\"figure.figsize\"] = [14.00, 7.00]\n",
    "plt.rcParams[\"figure.autolayout\"] = True\n",
    "\n",
    "plt.rcParams[\"figure.autolayout\"] = True\n",
    "\n",
    "plt.plot(x_tics, df)\n",
    "#plt.xticks(x_tics, x)\n",
    "plt.show()"
   ]
  }
 ],
 "metadata": {
  "kernelspec": {
   "display_name": "base",
   "language": "python",
   "name": "python3"
  },
  "language_info": {
   "codemirror_mode": {
    "name": "ipython",
    "version": 3
   },
   "file_extension": ".py",
   "mimetype": "text/x-python",
   "name": "python",
   "nbconvert_exporter": "python",
   "pygments_lexer": "ipython3",
   "version": "3.8.8"
  },
  "orig_nbformat": 4,
  "vscode": {
   "interpreter": {
    "hash": "d7288e82646d3164eca24130947288f8779d11454649f2c02a5dfc42af7f324c"
   }
  }
 },
 "nbformat": 4,
 "nbformat_minor": 2
}
